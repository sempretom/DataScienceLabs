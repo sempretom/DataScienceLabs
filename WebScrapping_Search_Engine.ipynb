{
 "cells": [
  {
   "cell_type": "code",
   "execution_count": 1,
   "id": "74d15574-dffd-4891-ae5c-6ba91e2fc449",
   "metadata": {},
   "outputs": [],
   "source": [
    "# Importa Beautiful Soup para explorar o conteúdo da Pagina WEB\n",
    "from bs4 import BeautifulSoup\n"
   ]
  },
  {
   "cell_type": "code",
   "execution_count": 8,
   "id": "9421dff7-30c7-4e3f-ad77-a3ed36f19efe",
   "metadata": {},
   "outputs": [
    {
     "name": "stdout",
     "output_type": "stream",
     "text": [
      "<!DOCTYPE html><html lang=\"en-US\" itemscope itemtype=\"http://schema.org/WebPage\"><head><meta charset=\"utf-8\"><script nonce=\"8v1e4-cvvGfMxWMA93u16w\">var DOCS_timing={}; DOCS_timing['sl']=new Date().getTime();</script><script nonce=\"8v1e4-cvvGfMxWMA93u16w\">function _DumpException(e) {throw e;}</script><script data-id=\"_gd\" nonce=\"8v1e4-cvvGfMxWMA93u16w\">window.WIZ_global_data = {\"nQyAE\":{}};</script><script nonce=\"8v1e4-cvvGfMxWMA93u16w\">_docs_flag_initialData={\"atari-emtpr\":false,\"atari-ebidm\":tr\n"
     ]
    }
   ],
   "source": [
    "import requests\n",
    "from bs4 import BeautifulSoup\n",
    "# Especifique o endereço da Página que quer extrair o conteúdo\n",
    "url = 'http://nytimes.com'\n",
    "# Envie um HTTP GET request para a página\n",
    "response = requests.get(url)\n",
    "# Armazene o conteúdo HTML em uma variável\n",
    "html_content = response.text\n",
    "# Crie um BeautifulSoup object para analisar o HTML\n",
    "soup = BeautifulSoup(html_content, 'html.parser')\n",
    "# Exiba um snippet de um conteúdo HTML\n",
    "print(html_content[:500])"
   ]
  },
  {
   "cell_type": "code",
   "execution_count": 9,
   "id": "4f6bb39b-21c0-4004-a38b-1c7c02dcacd2",
   "metadata": {},
   "outputs": [
    {
     "name": "stdout",
     "output_type": "stream",
     "text": [
      " Results is here\n",
       ]
    }
   ],
   "source": [
    "# Procure por todos <p> tags (Paragrafos e Textos) no HTML\n",
    "links = soup.find_all('p')\n",
    "# Faça iteração por meio da lista dos links e imprima os resultados\n",
    "for link in links:\n",
    "    print(link.text)"
   ]
  },
  {
   "cell_type": "code",
   "execution_count": null,
   "id": "ecc6c88b-8919-4525-a559-6530f12fd5a1",
   "metadata": {},
   "outputs": [],
   "source": []
  }
 ],
 "metadata": {
  "kernelspec": {
   "display_name": "Python 3 (ipykernel)",
   "language": "python",
   "name": "python3"
  },
  "language_info": {
   "codemirror_mode": {
    "name": "ipython",
    "version": 3
   },
   "file_extension": ".py",
   "mimetype": "text/x-python",
   "name": "python",
   "nbconvert_exporter": "python",
   "pygments_lexer": "ipython3",
   "version": "3.11.7"
  }
 },
 "nbformat": 4,
 "nbformat_minor": 5
}
