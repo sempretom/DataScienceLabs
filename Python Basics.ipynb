{
 "cells": [
  {
   "cell_type": "code",
   "execution_count": 4,
   "id": "39a3d3a4-14b8-4ae5-8726-9984a90aae62",
   "metadata": {},
   "outputs": [
    {
     "data": {
      "text/plain": [
       "1"
      ]
     },
     "execution_count": 4,
     "metadata": {},
     "output_type": "execute_result"
    }
   ],
   "source": [
    "1\n",
    "# This is a comment"
   ]
  },
  {
   "cell_type": "markdown",
   "id": "a7d1c679-61fc-47f6-8cda-01619c067625",
   "metadata": {},
   "source": [
    "## Combines (concatenates) strings."
   ]
  },
  {
   "cell_type": "code",
   "execution_count": 12,
   "id": "08edd498-9695-4e78-b536-ad5ce822dfd2",
   "metadata": {},
   "outputs": [
    {
     "name": "stdout",
     "output_type": "stream",
     "text": [
      "Sebastian Bach\n"
     ]
    }
   ],
   "source": [
    "type(\"Sebastian\")\n",
    "type(\"bach\")\n",
    "string1 = \"Sebastian\"\n",
    "string2 = \" Bach\"\n",
    "concatenated_string = string1 + string2 \n",
    "print(concatenated_string)"
   ]
  },
  {
   "cell_type": "code",
   "execution_count": 15,
   "id": "2d34fb47-76f4-4b0d-9cd8-28fda599a10e",
   "metadata": {},
   "outputs": [
    {
     "name": "stdout",
     "output_type": "stream",
     "text": [
      "Hello John\n"
     ]
    }
   ],
   "source": [
    "result = \"Hello\" + \" John\"\n",
    "print(result)"
   ]
  },
  {
   "cell_type": "markdown",
   "id": "aa27acbb-cf9b-4881-97c5-ec8aee9ff4b4",
   "metadata": {},
   "source": [
    "## - Integer - Float - Boolean - String"
   ]
  },
  {
   "cell_type": "code",
   "execution_count": 21,
   "id": "6343709c-2e56-4504-8a94-81695c884295",
   "metadata": {},
   "outputs": [
    {
     "name": "stdout",
     "output_type": "stream",
     "text": [
      "<class 'int'>\n",
      "<class 'float'>\n",
      "<class 'bool'>\n",
      "<class 'str'>\n"
     ]
    }
   ],
   "source": [
    "x=7 \n",
    "# Integer Value \n",
    "y=12.4 \n",
    "# Float Value \n",
    "is_valid = True \n",
    "# Boolean Value \n",
    "is_valid = False \n",
    "# Boolean Value \n",
    "F_Name = \"John\" \n",
    "# String Value\n",
    "\n",
    "print(type(x))\n",
    "print(type(y))\n",
    "print(type(is_valid))\n",
    "print(type(F_Name))\n"
   ]
  },
  {
   "cell_type": "markdown",
   "id": "da3f4bfa-d72e-4b87-9ca5-baf6bd059fe0",
   "metadata": {},
   "source": [
    "## Accesses character at a specific index."
   ]
  },
  {
   "cell_type": "code",
   "execution_count": 31,
   "id": "5795956c-c28e-453b-a2da-1ad9c0061d79",
   "metadata": {},
   "outputs": [
    {
     "name": "stdout",
     "output_type": "stream",
     "text": [
      "H\n"
     ]
    }
   ],
   "source": [
    "my_string=\"Hello\" \n",
    "char = my_string[0]\n",
    "print(char)"
   ]
  },
  {
   "cell_type": "markdown",
   "id": "40c3b5a0-0d9e-4ffd-98cb-fcf76193f23b",
   "metadata": {},
   "source": [
    "## Returns the length of a string."
   ]
  },
  {
   "cell_type": "code",
   "execution_count": 38,
   "id": "8f3d6b05-65f4-4f23-b1bd-735a49fc24c7",
   "metadata": {},
   "outputs": [
    {
     "name": "stdout",
     "output_type": "stream",
     "text": [
      "Hello\n"
     ]
    }
   ],
   "source": [
    "my_string=\"Hello\" \n",
    "length = len(my_string)\n",
    "print(my_string)"
   ]
  },
  {
   "cell_type": "markdown",
   "id": "388f84cb-1114-478b-8e41-daf22b3172f2",
   "metadata": {},
   "source": [
    "## Converts string to lowercase."
   ]
  },
  {
   "cell_type": "code",
   "execution_count": 74,
   "id": "a975ef89-7a3d-4ab8-8372-5e39a35b4bd1",
   "metadata": {},
   "outputs": [
    {
     "name": "stdout",
     "output_type": "stream",
     "text": [
      "hello\n"
     ]
    }
   ],
   "source": [
    "my_string=\"HELLO\" \n",
    "uppercase_text = my_string.lower()\n",
    "print(uppercase_text)"
   ]
  },
  {
   "cell_type": "markdown",
   "id": "77f8a809-1a4d-4532-9d45-f832536be794",
   "metadata": {},
   "source": [
    "## Prints the message or variable inside `()`."
   ]
  },
  {
   "cell_type": "code",
   "execution_count": 48,
   "id": "0c1cbdf3-ad97-4acd-9fe3-e2092f373c7f",
   "metadata": {},
   "outputs": [
    {
     "name": "stdout",
     "output_type": "stream",
     "text": [
      "Hello, world\n",
      "Helloworld\n"
     ]
    }
   ],
   "source": [
    "print(\"Hello, world\") \n",
    "a=\"Hello\"\n",
    "b=\"world\"\n",
    "print(a+b)"
   ]
  },
  {
   "cell_type": "markdown",
   "id": "9f578012-2eab-4cdc-b3ef-fd4af4583f7a",
   "metadata": {},
   "source": [
    "# Python Operations\n",
    "\n",
    "### - Addition (+): Adds two values together.\n",
    "### - Subtraction (-): Subtracts one value from another.\n",
    "### - Multiplication (*): Multiplies two values.\n",
    "### - Division (/): Divides one value by another, returns a float.\n",
    "### - Floor Division (//): Divides one value by another, returns the quotient as an integer.\n",
    "### - Modulo (%): Returns the remainder after division."
   ]
  },
  {
   "cell_type": "code",
   "execution_count": 47,
   "id": "a8447d0f-f996-4aef-8e47-8076666a75df",
   "metadata": {},
   "outputs": [
    {
     "name": "stdout",
     "output_type": "stream",
     "text": [
      "13\n",
      "5\n",
      "36\n",
      "2.25\n",
      "2\n",
      "1\n"
     ]
    }
   ],
   "source": [
    "x = 9 \n",
    "y = 4 \n",
    "result_add= x + y # Addition \n",
    "result_sub= x - y # Subtraction \n",
    "result_mul= x * y # Multiplication \n",
    "result_div= x / y # Division \n",
    "result_fdiv= x // y # Floor Division \n",
    "result_mod= x % y # Modulo</td>\n",
    "print(result_add)\n",
    "print(result_sub)\n",
    "print(result_mul)\n",
    "print(result_div)\n",
    "print(result_fdiv)\n",
    "print(result_mod)\n"
   ]
  },
  {
   "cell_type": "markdown",
   "id": "c4d05731-9b9f-4ee9-ae07-a6cb5f2eba53",
   "metadata": {},
   "source": [
    "## Replaces substrings."
   ]
  },
  {
   "cell_type": "code",
   "execution_count": 50,
   "id": "edc4c5d0-65a4-48e9-aef4-880105fc5704",
   "metadata": {},
   "outputs": [
    {
     "name": "stdout",
     "output_type": "stream",
     "text": [
      "Hi\n"
     ]
    }
   ],
   "source": [
    "my_string=\"Hello\" \n",
    "new_text = my_string.replace(\"Hello\", \"Hi\")\n",
    "print(new_text)"
   ]
  },
  {
   "cell_type": "markdown",
   "id": "42fcc165-f3f5-4e85-bab6-56f720024d35",
   "metadata": {},
   "source": [
    "# Extracts a portion of the string."
   ]
  },
  {
   "cell_type": "code",
   "execution_count": 55,
   "id": "5a6023bf-5738-4add-a374-17cd6f079c83",
   "metadata": {},
   "outputs": [
    {
     "name": "stdout",
     "output_type": "stream",
     "text": [
      "Hello\n"
     ]
    }
   ],
   "source": [
    "my_string=\"Hello\" \n",
    "substring = my_string[0:5]\n",
    "print(substring)"
   ]
  },
  {
   "cell_type": "markdown",
   "id": "5a0916e9-7b1a-4627-9334-c641fa832265",
   "metadata": {},
   "source": [
    "## Splits string into a list based on a delimiter."
   ]
  },
  {
   "cell_type": "code",
   "execution_count": 61,
   "id": "14d3728c-b522-4312-826c-299e65f149a5",
   "metadata": {},
   "outputs": [
    {
     "name": "stdout",
     "output_type": "stream",
     "text": [
      "['Hello']\n"
     ]
    }
   ],
   "source": [
    "my_string=\"Hello\" \n",
    "split_text = my_string.split(\",\")\n",
    "print(split_text)"
   ]
  },
  {
   "cell_type": "markdown",
   "id": "5e0ba713-b880-40cc-8018-1ea7e5a2f2d0",
   "metadata": {},
   "source": [
    "## Removes leading/trailing whitespace."
   ]
  },
  {
   "cell_type": "code",
   "execution_count": 70,
   "id": "e76a9788-f9bd-4104-8b33-54fd439c4881",
   "metadata": {},
   "outputs": [
    {
     "name": "stdout",
     "output_type": "stream",
     "text": [
      "Hello\n"
     ]
    }
   ],
   "source": [
    "my_string=\"     Hello    \" \n",
    "trimmed = my_string.strip()\n",
    "print(trimmed)"
   ]
  },
  {
   "cell_type": "markdown",
   "id": "734c48ab-f109-4cdf-abc1-f2e77f5f35db",
   "metadata": {},
   "source": [
    "## Converts string to uppercase."
   ]
  },
  {
   "cell_type": "code",
   "execution_count": 71,
   "id": "46922629-a599-47a6-932d-ab6adba82762",
   "metadata": {},
   "outputs": [
    {
     "name": "stdout",
     "output_type": "stream",
     "text": [
      "HELLO\n"
     ]
    }
   ],
   "source": [
    "my_string=\"Hello\" \n",
    "uppercase_text = my_string.upper()\n",
    "print(uppercase_text)"
   ]
  },
  {
   "cell_type": "markdown",
   "id": "d9f9b196-fa1e-42f5-9c29-4d9e46519366",
   "metadata": {},
   "source": [
    "## Assigns a value to a variable."
   ]
  },
  {
   "cell_type": "code",
   "execution_count": 72,
   "id": "9bb279c0-070a-44c3-b337-327938d0efcf",
   "metadata": {},
   "outputs": [],
   "source": [
    "name=\"John\" \n",
    "# assigning John to variable name \n",
    "x = 5 \n",
    "# assigning 5 to variable x"
   ]
  },
  {
   "cell_type": "code",
   "execution_count": 73,
   "id": "ac96c746-fe6e-4888-8b89-6c292b1c6734",
   "metadata": {},
   "outputs": [
    {
     "name": "stdout",
     "output_type": "stream",
     "text": [
      "John\n",
      "5\n"
     ]
    }
   ],
   "source": [
    "print(name)\n",
    "print(x)"
   ]
  },
  {
   "cell_type": "code",
   "execution_count": null,
   "id": "46dd8486-c756-487b-a57f-02988f5eb263",
   "metadata": {},
   "outputs": [],
   "source": []
  }
 ],
 "metadata": {
  "kernelspec": {
   "display_name": "Python 3 (ipykernel)",
   "language": "python",
   "name": "python3"
  },
  "language_info": {
   "codemirror_mode": {
    "name": "ipython",
    "version": 3
   },
   "file_extension": ".py",
   "mimetype": "text/x-python",
   "name": "python",
   "nbconvert_exporter": "python",
   "pygments_lexer": "ipython3",
   "version": "3.11.7"
  }
 },
 "nbformat": 4,
 "nbformat_minor": 5
}
