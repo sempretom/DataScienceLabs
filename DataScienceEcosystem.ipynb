{
 "cells": [
  {
   "cell_type": "markdown",
   "id": "70e28dae-ab76-4644-b619-b1a4f2ae7537",
   "metadata": {},
   "source": [
    "<h1>Data Science Ecosystem</h1>"
   ]
  },
  {
   "cell_type": "markdown",
   "id": "2713d12b-c0ea-4aa2-b936-cd66f6fe9b1c",
   "metadata": {},
   "source": [
    "In this notebook, Data Science Tools and Ecosystem are summarized."
   ]
  },
  {
   "cell_type": "markdown",
   "id": "246e0024-ff33-40ec-adae-ed9ccfe9a4b5",
   "metadata": {},
   "source": [
    "<b>Objectives:</b>\n",
    "\n",
    "* Learn about Popular Languages\n",
    "* Commonly used libraries\n",
    "* Data Science Tools\n",
    "* evaluating arithmetic expressions in Python\n",
    "    * Multiply\n",
    "    * Divide"
   ]
  },
  {
   "cell_type": "markdown",
   "id": "2304b671-d0d3-4042-80a8-217dec228be4",
   "metadata": {},
   "source": [
    "Some of the popular languages that Data Scientists use are:\n",
    "\n",
    "1. Python\n",
    "2. R\n",
    "3. SQL"
   ]
  },
  {
   "cell_type": "markdown",
   "id": "78ec0215-6da0-43c1-820f-6226f1790a2e",
   "metadata": {},
   "source": [
    "Some of the commonly used libraries used by Data Scientists include:\n",
    "\n",
    "1. NumPy\n",
    "2. Pandas\n",
    "3. Matplotlib\n",
    "4. Seaborn\n",
    "5. Scikit-learn"
   ]
  },
  {
   "cell_type": "markdown",
   "id": "8efd2642-bb63-4d95-b3b1-482eda4e9897",
   "metadata": {},
   "source": [
    "|Data Science Tools|\n",
    "|-------|\n",
    "|MySQL|\n",
    "|PostgreSQL |\n",
    "|MongoDB|"
   ]
  },
  {
   "cell_type": "markdown",
   "id": "bb6c92b3-b3a1-4dd8-a508-f8b403e9fbb7",
   "metadata": {},
   "source": [
    "<H3>Below are a few examples of evaluating arithmetic expressions in Python.</H3>"
   ]
  },
  {
   "cell_type": "markdown",
   "id": "1bbd7ac0-1538-4bcf-bee6-25a0e5dcfc94",
   "metadata": {},
   "source": [
    "This a simple arithmetic expression to mutiply then add integers."
   ]
  },
  {
   "cell_type": "code",
   "execution_count": 2,
   "id": "f494db01-07f7-415c-8fad-249b25f2f28b",
   "metadata": {},
   "outputs": [
    {
     "data": {
      "text/plain": [
       "17"
      ]
     },
     "execution_count": 2,
     "metadata": {},
     "output_type": "execute_result"
    }
   ],
   "source": [
    "(3*4)+5"
   ]
  },
  {
   "cell_type": "markdown",
   "id": "30684121-619a-4561-b3c9-9019d0c38203",
   "metadata": {},
   "source": [
    "200 minutes to hours by diving by 60."
   ]
  },
  {
   "cell_type": "code",
   "execution_count": 3,
   "id": "ebdfccdf-6434-457b-8f7a-78bdc0d5d892",
   "metadata": {},
   "outputs": [
    {
     "data": {
      "text/plain": [
       "3.3333333333333335"
      ]
     },
     "execution_count": 3,
     "metadata": {},
     "output_type": "execute_result"
    }
   ],
   "source": [
    "200/60"
   ]
  },
  {
   "cell_type": "markdown",
   "id": "872f9021-de8b-4203-a55f-047913e2986d",
   "metadata": {},
   "source": [
    "<H2>Author</H2>\n",
    "Ewerton Manzotte"
   ]
  },
  {
   "cell_type": "code",
   "execution_count": null,
   "id": "8f6d605a-15a2-4e08-bcc3-6c8e1568ab86",
   "metadata": {},
   "outputs": [],
   "source": []
  }
 ],
 "metadata": {
  "kernelspec": {
   "display_name": "Python 3 (ipykernel)",
   "language": "python",
   "name": "python3"
  },
  "language_info": {
   "codemirror_mode": {
    "name": "ipython",
    "version": 3
   },
   "file_extension": ".py",
   "mimetype": "text/x-python",
   "name": "python",
   "nbconvert_exporter": "python",
   "pygments_lexer": "ipython3",
   "version": "3.11.7"
  }
 },
 "nbformat": 4,
 "nbformat_minor": 5
}
